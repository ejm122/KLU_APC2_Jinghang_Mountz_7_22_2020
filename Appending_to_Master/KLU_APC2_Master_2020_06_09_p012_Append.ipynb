{
 "cells": [
  {
   "cell_type": "code",
   "execution_count": 1,
   "metadata": {},
   "outputs": [],
   "source": [
    "import pandas as pd\n",
    "import numpy as np\n",
    "import tkinter\n",
    "import tkinter as tk\n",
    "import os\n",
    "from tkinter import filedialog\n",
    "pd.set_option('display.max_rows', None)"
   ]
  },
  {
   "cell_type": "code",
   "execution_count": 2,
   "metadata": {},
   "outputs": [
    {
     "name": "stdout",
     "output_type": "stream",
     "text": [
      "Please select the asymmetry index csv file: \n",
      "This excel file has been selected\n",
      "Please select the activation values csv file: \n",
      "This excel file has been selected\n",
      "Please select the FWHM values csv file: \n",
      "This excel file has been selected\n",
      "Select Scan Number excel file\n",
      "This excel file has been selected\n"
     ]
    }
   ],
   "source": [
    "root = tk.Tk()\n",
    "root.withdraw()\n",
    "print(\"Please select the asymmetry index csv file: \")\n",
    "file_path = filedialog.askopenfilename()\n",
    "if file_path != None:\n",
    "    print(\"This excel file has been selected\") \n",
    "df = pd.read_csv(file_path) # reading AI from MATLAB\n",
    "df = df.drop(['Subject ID'],axis=1) #Dropping the subject ID column\n",
    "\n",
    "root = tk.Tk()\n",
    "root.withdraw()\n",
    "print(\"Please select the activation values csv file: \")\n",
    "file_path = filedialog.askopenfilename()\n",
    "if file_path != None:\n",
    "    print(\"This excel file has been selected\") \n",
    "df5 = pd.read_csv(file_path, header = 0) # reading Activations from MATLAB\n",
    "df5 = df5.drop('Subject_ID', axis=1) #Dropping the subject ID column\n",
    "\n",
    "root = tk.Tk()\n",
    "root.withdraw()\n",
    "print(\"Please select the FWHM values csv file: \")\n",
    "file_path = filedialog.askopenfilename()\n",
    "if file_path != None:\n",
    "    print(\"This excel file has been selected\") \n",
    "df6 = pd.read_csv(file_path, header = 0) # reading FWHM from MATLAB\n",
    "df6 = df6.drop('Subject_ID', axis=1) #Dropping the subject ID column\n",
    "\n",
    "root = tk.Tk()\n",
    "root.withdraw()\n",
    "print(\"Select Scan Number excel file\")\n",
    "file_path = filedialog.askopenfilename()\n",
    "if file_path != None:\n",
    "    print(\"This excel file has been selected\") \n",
    "df2 = pd.read_excel(file_path) #dataGethering file\n",
    "Scan_1 = df2.loc[df2['Scan Number'] == 1,'ScanID'] #the scan ID of the Scan number 1"
   ]
  },
  {
   "cell_type": "code",
   "execution_count": 3,
   "metadata": {},
   "outputs": [
    {
     "name": "stdout",
     "output_type": "stream",
     "text": [
      "Please select the master sheet excel file: \n",
      "This excel file has been selected\n"
     ]
    }
   ],
   "source": [
    "root = tk.Tk()\n",
    "root.withdraw()\n",
    "print(\"Please select the master sheet excel file: \")\n",
    "file_path_master = filedialog.askopenfilename()\n",
    "if file_path_master != None:\n",
    "    print(\"This excel file has been selected\") \n",
    "df3 = pd.read_excel(file_path_master)\n",
    "df3.insert(2,\"ScanNumber_1\", Scan_1, allow_duplicates = False)\n",
    "df3.insert(3, \"Scan_ID\", None, allow_duplicates = False)\n",
    "df3.insert(4,\"Hippocampus_AI\", None,allow_duplicates = False)\n",
    "df3.insert(5,\"DLPFC_AI\", None,allow_duplicates = False)\n",
    "df3.insert(6,\"Scan_ID_2\", None,allow_duplicates = False)\n",
    "df3.insert(7, \"Left_Hippocampus_Activation\", None, allow_duplicates=False)\n",
    "df3.insert(8,\"Right_Hippocampus_Activation\", None,allow_duplicates = False)\n",
    "df3.insert(9,\"Left_DLPFC_Activation\", None,allow_duplicates = False)\n",
    "df3.insert(10,\"Right_DLPFC_Activation\", None,allow_duplicates = False)\n",
    "df3.insert(11, \"Scan_ID_3\", None, allow_duplicates = False)\n",
    "df3.insert(12, \"Hippocampus_FWHM_AI\", None, allow_duplicates = False)\n",
    "df3.insert(13, \"DLPFC_FWHM_AI\", None, allow_duplicates = False)\n"
   ]
  },
  {
   "cell_type": "code",
   "execution_count": 4,
   "metadata": {},
   "outputs": [],
   "source": [
    "def ismember(A, B):\n",
    "    return [ np.sum(a == B) for a in A ]"
   ]
  },
  {
   "cell_type": "code",
   "execution_count": 5,
   "metadata": {},
   "outputs": [],
   "source": [
    "V_ID = df3['Vault_Scan_ID']\n",
    "S_ID = df['Scan ID']"
   ]
  },
  {
   "cell_type": "code",
   "execution_count": 6,
   "metadata": {},
   "outputs": [],
   "source": [
    "idx = ismember(V_ID,S_ID) #ismember\n",
    "ind = np.argwhere(idx) #find command finding all the index on the master sheet"
   ]
  },
  {
   "cell_type": "code",
   "execution_count": null,
   "metadata": {},
   "outputs": [],
   "source": []
  },
  {
   "cell_type": "code",
   "execution_count": 7,
   "metadata": {},
   "outputs": [],
   "source": [
    "## Matching and appending the asymmetry index to the master sheet\n",
    "for i in range(0,len(ind)):\n",
    "    df3.iloc[int(ind[i]),3:6] = df.iloc[i,0:3].values\n",
    "    df3.iloc[int(ind[i]),6:11] = df5.iloc[i,0:5].values\n",
    "#df3.to_excel(\"Appended.xlsx\")"
   ]
  },
  {
   "cell_type": "code",
   "execution_count": 8,
   "metadata": {},
   "outputs": [
    {
     "ename": "KeyError",
     "evalue": "'Scan_ID'",
     "output_type": "error",
     "traceback": [
      "\u001b[0;31m---------------------------------------------------------------------------\u001b[0m",
      "\u001b[0;31mKeyError\u001b[0m                                  Traceback (most recent call last)",
      "\u001b[0;32m~/opt/anaconda3/lib/python3.7/site-packages/pandas/core/indexes/base.py\u001b[0m in \u001b[0;36mget_loc\u001b[0;34m(self, key, method, tolerance)\u001b[0m\n\u001b[1;32m   2645\u001b[0m             \u001b[0;32mtry\u001b[0m\u001b[0;34m:\u001b[0m\u001b[0;34m\u001b[0m\u001b[0;34m\u001b[0m\u001b[0m\n\u001b[0;32m-> 2646\u001b[0;31m                 \u001b[0;32mreturn\u001b[0m \u001b[0mself\u001b[0m\u001b[0;34m.\u001b[0m\u001b[0m_engine\u001b[0m\u001b[0;34m.\u001b[0m\u001b[0mget_loc\u001b[0m\u001b[0;34m(\u001b[0m\u001b[0mkey\u001b[0m\u001b[0;34m)\u001b[0m\u001b[0;34m\u001b[0m\u001b[0;34m\u001b[0m\u001b[0m\n\u001b[0m\u001b[1;32m   2647\u001b[0m             \u001b[0;32mexcept\u001b[0m \u001b[0mKeyError\u001b[0m\u001b[0;34m:\u001b[0m\u001b[0;34m\u001b[0m\u001b[0;34m\u001b[0m\u001b[0m\n",
      "\u001b[0;32mpandas/_libs/index.pyx\u001b[0m in \u001b[0;36mpandas._libs.index.IndexEngine.get_loc\u001b[0;34m()\u001b[0m\n",
      "\u001b[0;32mpandas/_libs/index.pyx\u001b[0m in \u001b[0;36mpandas._libs.index.IndexEngine.get_loc\u001b[0;34m()\u001b[0m\n",
      "\u001b[0;32mpandas/_libs/hashtable_class_helper.pxi\u001b[0m in \u001b[0;36mpandas._libs.hashtable.PyObjectHashTable.get_item\u001b[0;34m()\u001b[0m\n",
      "\u001b[0;32mpandas/_libs/hashtable_class_helper.pxi\u001b[0m in \u001b[0;36mpandas._libs.hashtable.PyObjectHashTable.get_item\u001b[0;34m()\u001b[0m\n",
      "\u001b[0;31mKeyError\u001b[0m: 'Scan_ID'",
      "\nDuring handling of the above exception, another exception occurred:\n",
      "\u001b[0;31mKeyError\u001b[0m                                  Traceback (most recent call last)",
      "\u001b[0;32m<ipython-input-8-9b7eb103e733>\u001b[0m in \u001b[0;36m<module>\u001b[0;34m\u001b[0m\n\u001b[1;32m      1\u001b[0m \u001b[0mV_ID_FWHM\u001b[0m \u001b[0;34m=\u001b[0m \u001b[0mdf3\u001b[0m\u001b[0;34m[\u001b[0m\u001b[0;34m'Vault_Scan_ID'\u001b[0m\u001b[0;34m]\u001b[0m\u001b[0;34m\u001b[0m\u001b[0;34m\u001b[0m\u001b[0m\n\u001b[0;32m----> 2\u001b[0;31m \u001b[0mS_ID_FWHM\u001b[0m \u001b[0;34m=\u001b[0m \u001b[0mdf6\u001b[0m\u001b[0;34m[\u001b[0m\u001b[0;34m'Scan_ID'\u001b[0m\u001b[0;34m]\u001b[0m\u001b[0;34m\u001b[0m\u001b[0;34m\u001b[0m\u001b[0m\n\u001b[0m\u001b[1;32m      3\u001b[0m \u001b[0midx_FWHM\u001b[0m \u001b[0;34m=\u001b[0m \u001b[0mismember\u001b[0m\u001b[0;34m(\u001b[0m\u001b[0mV_ID_FWHM\u001b[0m\u001b[0;34m,\u001b[0m\u001b[0mS_ID_FWHM\u001b[0m\u001b[0;34m)\u001b[0m \u001b[0;31m#ismember\u001b[0m\u001b[0;34m\u001b[0m\u001b[0;34m\u001b[0m\u001b[0m\n\u001b[1;32m      4\u001b[0m \u001b[0mind_FWHM\u001b[0m \u001b[0;34m=\u001b[0m \u001b[0mnp\u001b[0m\u001b[0;34m.\u001b[0m\u001b[0margwhere\u001b[0m\u001b[0;34m(\u001b[0m\u001b[0midx_FWHM\u001b[0m\u001b[0;34m)\u001b[0m \u001b[0;31m#find command finding all the index on the master sheet\u001b[0m\u001b[0;34m\u001b[0m\u001b[0;34m\u001b[0m\u001b[0m\n\u001b[1;32m      5\u001b[0m \u001b[0;32mfor\u001b[0m \u001b[0mi\u001b[0m \u001b[0;32min\u001b[0m \u001b[0mrange\u001b[0m\u001b[0;34m(\u001b[0m\u001b[0;36m0\u001b[0m\u001b[0;34m,\u001b[0m\u001b[0mlen\u001b[0m\u001b[0;34m(\u001b[0m\u001b[0mind_FWHM\u001b[0m\u001b[0;34m)\u001b[0m\u001b[0;34m)\u001b[0m\u001b[0;34m:\u001b[0m\u001b[0;34m\u001b[0m\u001b[0;34m\u001b[0m\u001b[0m\n",
      "\u001b[0;32m~/opt/anaconda3/lib/python3.7/site-packages/pandas/core/frame.py\u001b[0m in \u001b[0;36m__getitem__\u001b[0;34m(self, key)\u001b[0m\n\u001b[1;32m   2798\u001b[0m             \u001b[0;32mif\u001b[0m \u001b[0mself\u001b[0m\u001b[0;34m.\u001b[0m\u001b[0mcolumns\u001b[0m\u001b[0;34m.\u001b[0m\u001b[0mnlevels\u001b[0m \u001b[0;34m>\u001b[0m \u001b[0;36m1\u001b[0m\u001b[0;34m:\u001b[0m\u001b[0;34m\u001b[0m\u001b[0;34m\u001b[0m\u001b[0m\n\u001b[1;32m   2799\u001b[0m                 \u001b[0;32mreturn\u001b[0m \u001b[0mself\u001b[0m\u001b[0;34m.\u001b[0m\u001b[0m_getitem_multilevel\u001b[0m\u001b[0;34m(\u001b[0m\u001b[0mkey\u001b[0m\u001b[0;34m)\u001b[0m\u001b[0;34m\u001b[0m\u001b[0;34m\u001b[0m\u001b[0m\n\u001b[0;32m-> 2800\u001b[0;31m             \u001b[0mindexer\u001b[0m \u001b[0;34m=\u001b[0m \u001b[0mself\u001b[0m\u001b[0;34m.\u001b[0m\u001b[0mcolumns\u001b[0m\u001b[0;34m.\u001b[0m\u001b[0mget_loc\u001b[0m\u001b[0;34m(\u001b[0m\u001b[0mkey\u001b[0m\u001b[0;34m)\u001b[0m\u001b[0;34m\u001b[0m\u001b[0;34m\u001b[0m\u001b[0m\n\u001b[0m\u001b[1;32m   2801\u001b[0m             \u001b[0;32mif\u001b[0m \u001b[0mis_integer\u001b[0m\u001b[0;34m(\u001b[0m\u001b[0mindexer\u001b[0m\u001b[0;34m)\u001b[0m\u001b[0;34m:\u001b[0m\u001b[0;34m\u001b[0m\u001b[0;34m\u001b[0m\u001b[0m\n\u001b[1;32m   2802\u001b[0m                 \u001b[0mindexer\u001b[0m \u001b[0;34m=\u001b[0m \u001b[0;34m[\u001b[0m\u001b[0mindexer\u001b[0m\u001b[0;34m]\u001b[0m\u001b[0;34m\u001b[0m\u001b[0;34m\u001b[0m\u001b[0m\n",
      "\u001b[0;32m~/opt/anaconda3/lib/python3.7/site-packages/pandas/core/indexes/base.py\u001b[0m in \u001b[0;36mget_loc\u001b[0;34m(self, key, method, tolerance)\u001b[0m\n\u001b[1;32m   2646\u001b[0m                 \u001b[0;32mreturn\u001b[0m \u001b[0mself\u001b[0m\u001b[0;34m.\u001b[0m\u001b[0m_engine\u001b[0m\u001b[0;34m.\u001b[0m\u001b[0mget_loc\u001b[0m\u001b[0;34m(\u001b[0m\u001b[0mkey\u001b[0m\u001b[0;34m)\u001b[0m\u001b[0;34m\u001b[0m\u001b[0;34m\u001b[0m\u001b[0m\n\u001b[1;32m   2647\u001b[0m             \u001b[0;32mexcept\u001b[0m \u001b[0mKeyError\u001b[0m\u001b[0;34m:\u001b[0m\u001b[0;34m\u001b[0m\u001b[0;34m\u001b[0m\u001b[0m\n\u001b[0;32m-> 2648\u001b[0;31m                 \u001b[0;32mreturn\u001b[0m \u001b[0mself\u001b[0m\u001b[0;34m.\u001b[0m\u001b[0m_engine\u001b[0m\u001b[0;34m.\u001b[0m\u001b[0mget_loc\u001b[0m\u001b[0;34m(\u001b[0m\u001b[0mself\u001b[0m\u001b[0;34m.\u001b[0m\u001b[0m_maybe_cast_indexer\u001b[0m\u001b[0;34m(\u001b[0m\u001b[0mkey\u001b[0m\u001b[0;34m)\u001b[0m\u001b[0;34m)\u001b[0m\u001b[0;34m\u001b[0m\u001b[0;34m\u001b[0m\u001b[0m\n\u001b[0m\u001b[1;32m   2649\u001b[0m         \u001b[0mindexer\u001b[0m \u001b[0;34m=\u001b[0m \u001b[0mself\u001b[0m\u001b[0;34m.\u001b[0m\u001b[0mget_indexer\u001b[0m\u001b[0;34m(\u001b[0m\u001b[0;34m[\u001b[0m\u001b[0mkey\u001b[0m\u001b[0;34m]\u001b[0m\u001b[0;34m,\u001b[0m \u001b[0mmethod\u001b[0m\u001b[0;34m=\u001b[0m\u001b[0mmethod\u001b[0m\u001b[0;34m,\u001b[0m \u001b[0mtolerance\u001b[0m\u001b[0;34m=\u001b[0m\u001b[0mtolerance\u001b[0m\u001b[0;34m)\u001b[0m\u001b[0;34m\u001b[0m\u001b[0;34m\u001b[0m\u001b[0m\n\u001b[1;32m   2650\u001b[0m         \u001b[0;32mif\u001b[0m \u001b[0mindexer\u001b[0m\u001b[0;34m.\u001b[0m\u001b[0mndim\u001b[0m \u001b[0;34m>\u001b[0m \u001b[0;36m1\u001b[0m \u001b[0;32mor\u001b[0m \u001b[0mindexer\u001b[0m\u001b[0;34m.\u001b[0m\u001b[0msize\u001b[0m \u001b[0;34m>\u001b[0m \u001b[0;36m1\u001b[0m\u001b[0;34m:\u001b[0m\u001b[0;34m\u001b[0m\u001b[0;34m\u001b[0m\u001b[0m\n",
      "\u001b[0;32mpandas/_libs/index.pyx\u001b[0m in \u001b[0;36mpandas._libs.index.IndexEngine.get_loc\u001b[0;34m()\u001b[0m\n",
      "\u001b[0;32mpandas/_libs/index.pyx\u001b[0m in \u001b[0;36mpandas._libs.index.IndexEngine.get_loc\u001b[0;34m()\u001b[0m\n",
      "\u001b[0;32mpandas/_libs/hashtable_class_helper.pxi\u001b[0m in \u001b[0;36mpandas._libs.hashtable.PyObjectHashTable.get_item\u001b[0;34m()\u001b[0m\n",
      "\u001b[0;32mpandas/_libs/hashtable_class_helper.pxi\u001b[0m in \u001b[0;36mpandas._libs.hashtable.PyObjectHashTable.get_item\u001b[0;34m()\u001b[0m\n",
      "\u001b[0;31mKeyError\u001b[0m: 'Scan_ID'"
     ]
    }
   ],
   "source": [
    "V_ID_FWHM = df3['Vault_Scan_ID']\n",
    "S_ID_FWHM = df6['Scan_ID']\n",
    "idx_FWHM = ismember(V_ID_FWHM,S_ID_FWHM) #ismember\n",
    "ind_FWHM = np.argwhere(idx_FWHM) #find command finding all the index on the master sheet\n",
    "for i in range(0,len(ind_FWHM)):\n",
    "    df3.iloc[int(ind_FWHM[i]),11:14] = df6.iloc[i,0:3].values\n",
    "    \n",
    "    "
   ]
  },
  {
   "cell_type": "code",
   "execution_count": 9,
   "metadata": {},
   "outputs": [],
   "source": [
    "#Catergarizing Education \n",
    "#for i in range (0, len(df3['Education'])):\n",
    "#    if df3['Education'].loc[i] == 12:\n",
    "#       df3['Education'].loc[i] = 0\n",
    "#    if df3['Education'].loc[i] > 12:\n",
    "#        df3['Education'].loc[i] = 1\n",
    "#Catergarizing APOE\n",
    "#for i in range (0, len(df3['APOE_CODE'])):\n",
    "#    if df3['APOE_CODE'].loc[i] == 'At Least One E4 Allele':\n",
    "#        df3['APOE_CODE'].loc[i] = 1\n",
    "#    if df3['APOE_CODE'].loc[i] == 'No E4 Allele':\n",
    "#        df3['APOE_CODE'].loc[i] = 0\n",
    "        "
   ]
  },
  {
   "cell_type": "code",
   "execution_count": 10,
   "metadata": {},
   "outputs": [],
   "source": [
    "#Catergarizing PiB Global\n",
    "#for i in range (0, len(df3['PiBStatus_SUVR_GTM_FS_Global'])):\n",
    "#    if df3['PiBStatus_SUVR_GTM_FS_Global'].loc[i] == 'neg':\n",
    "#        df3['PiBStatus_SUVR_GTM_FS_Global'].loc[i] = 0\n",
    "#    if df3['PiBStatus_SUVR_GTM_FS_Global'].loc[i] == 'pos':\n",
    "#        df3['PiBStatus_SUVR_GTM_FS_Global'].loc[i] = 1\n",
    "        "
   ]
  },
  {
   "cell_type": "code",
   "execution_count": 11,
   "metadata": {},
   "outputs": [],
   "source": [
    "#Catergarizing PiB Regional \n",
    "#for i in range (0, len(df3['PiBStatus_SUVR_GTM_FS_Regional'])):\n",
    "#    if df3['PiBStatus_SUVR_GTM_FS_Regional'].loc[i] == 'neg':\n",
    "#        df3['PiBStatus_SUVR_GTM_FS_Regional'].loc[i] = 0\n",
    "#    if df3['PiBStatus_SUVR_GTM_FS_Regional'].loc[i] == 'pos':\n",
    "#        df3['PiBStatus_SUVR_GTM_FS_Regional'].loc[i] = 1"
   ]
  },
  {
   "cell_type": "code",
   "execution_count": 12,
   "metadata": {},
   "outputs": [],
   "source": [
    "# Only selecting the data by Scan#1\n",
    "#ind2 = np.argwhere(ismember(V_ID,Scan_1))\n",
    "#m,n = ind2.shape\n",
    "#ind2 = ind2.reshape(m,)\n",
    "#df4 = df3.iloc[ind2]\n",
    "#df4 = df4.drop(['ScanNumber_1'],axis=1) #Dropping the subject ID column\n",
    "\n"
   ]
  },
  {
   "cell_type": "code",
   "execution_count": null,
   "metadata": {},
   "outputs": [],
   "source": []
  },
  {
   "cell_type": "code",
   "execution_count": null,
   "metadata": {},
   "outputs": [],
   "source": []
  },
  {
   "cell_type": "code",
   "execution_count": null,
   "metadata": {},
   "outputs": [],
   "source": []
  },
  {
   "cell_type": "code",
   "execution_count": null,
   "metadata": {},
   "outputs": [],
   "source": []
  },
  {
   "cell_type": "code",
   "execution_count": null,
   "metadata": {},
   "outputs": [],
   "source": []
  },
  {
   "cell_type": "code",
   "execution_count": null,
   "metadata": {},
   "outputs": [],
   "source": []
  },
  {
   "cell_type": "code",
   "execution_count": 13,
   "metadata": {},
   "outputs": [],
   "source": [
    "path = os.path.split(file_path_master)\n",
    "fname = path[1]\n",
    "if 'xlsx' in fname:\n",
    "    fname = fname.replace('xlsx','csv')\n",
    "df3.to_csv(os.path.join(path[0],fname))"
   ]
  },
  {
   "cell_type": "code",
   "execution_count": 14,
   "metadata": {},
   "outputs": [],
   "source": [
    "df3.to_excel(file_path_master)"
   ]
  },
  {
   "cell_type": "code",
   "execution_count": null,
   "metadata": {},
   "outputs": [],
   "source": []
  },
  {
   "cell_type": "code",
   "execution_count": null,
   "metadata": {},
   "outputs": [],
   "source": []
  },
  {
   "cell_type": "code",
   "execution_count": null,
   "metadata": {},
   "outputs": [],
   "source": []
  }
 ],
 "metadata": {
  "kernelspec": {
   "display_name": "Python 3",
   "language": "python",
   "name": "python3"
  },
  "language_info": {
   "codemirror_mode": {
    "name": "ipython",
    "version": 3
   },
   "file_extension": ".py",
   "mimetype": "text/x-python",
   "name": "python",
   "nbconvert_exporter": "python",
   "pygments_lexer": "ipython3",
   "version": "3.7.6"
  }
 },
 "nbformat": 4,
 "nbformat_minor": 4
}
